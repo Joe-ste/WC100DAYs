{
 "cells": [
  {
   "cell_type": "markdown",
   "metadata": {},
   "source": [
    "# YAHOO電影爬蟲練習\n",
    "## 練習爬取電影放映資訊。必須逐步獲取電影的代號、放映地區、放映日期後，再送出查詢給伺服器。"
   ]
  },
  {
   "cell_type": "code",
   "execution_count": 2,
   "metadata": {},
   "outputs": [],
   "source": [
    "import requests\n",
    "import re\n",
    "from bs4 import BeautifulSoup"
   ]
  },
  {
   "cell_type": "markdown",
   "metadata": {},
   "source": [
    "### 先搜尋全部的電影代號(ID)資訊"
   ]
  },
  {
   "cell_type": "code",
   "execution_count": 16,
   "metadata": {},
   "outputs": [
    {
     "name": "stdout",
     "output_type": "stream",
     "text": [
      "ID: 10836  Movie: 魔鬼剋星2(1989)\n",
      "ID: 10828  Movie: 阿紫\n",
      "ID: 10824  Movie: 雙面追緝\n",
      "ID: 10820  Movie: 愛回來的那7天\n",
      "ID: 10819  Movie: 屍人莊殺人事件\n",
      "ID: 10818  Movie: 我們仍未知道那天所看見的花名 劇場版\n",
      "ID: 10807  Movie: ID4星際終結者\n",
      "ID: 10806  Movie: 北海小英雄\n",
      "ID: 10805  Movie: 守靈魘\n",
      "ID: 10790  Movie: 失眠的北風吹來愛情\n",
      "ID: 10750  Movie: 派遣死神事件簿\n",
      "ID: 10531  Movie: 好萊塢殺人事件：曼森血案\n",
      "ID: 10245  Movie: 日間演奏會散場時\n",
      "ID: 10838  Movie: 鋼鐵雨：深潛行動\n",
      "ID: 10712  Movie: 超危險駕駛\n",
      "ID: 10825  Movie: 《新天堂樂園》30週年數位修復版\n",
      "ID: 10822  Movie: 淒厲人僧前傳\n",
      "ID: 10815  Movie: 盧貝松之聖女貞德： 數位修復版\n",
      "ID: 10808  Movie: 野雀之詩\n",
      "ID: 10802  Movie: 曼哈頓戀舞曲\n",
      "ID: 10801  Movie: 詭絲\n",
      "ID: 10800  Movie: 咒冥曲\n",
      "ID: 10797  Movie: 戀夏時光\n",
      "ID: 10793  Movie: 星之彩\n",
      "ID: 10792  Movie: 屍人診所\n",
      "ID: 10771  Movie: 廢宅人生\n",
      "ID: 10770  Movie: 盧米埃：光與影的故事\n",
      "ID: 10753  Movie: 致命窺弒\n",
      "ID: 10730  Movie: 魔王的女兒\n",
      "ID: 10711  Movie: 拂曉\n",
      "ID: 7703  Movie: 解凍屍篇\n",
      "ID: 10788  Movie: 翻供\n",
      "ID: 10810  Movie: 小路與我的秘密驛站\n",
      "ID: 10789  Movie: 不丹是教室\n",
      "ID: 10775  Movie: 藍色恐懼：數位修復版\n",
      "ID: 10686  Movie: 綠光 經典數位修復\n",
      "ID: 10608  Movie: 屍速列車：感染半島\n",
      "ID: 5350  Movie: 打噴嚏\n",
      "ID: 10779  Movie: 里斯本的故事 25周年4K修復版\n",
      "ID: 10773  Movie: 推拿\n",
      "ID: 10749  Movie: 假面病棟\n",
      "ID: 10745  Movie: 沉默的羔羊\n",
      "ID: 10647  Movie: 角落小夥伴電影版：魔法繪本裡的新朋友\n",
      "ID: 10576  Movie: 慾火烈愛\n",
      "ID: 10524  Movie: 祕密花園\n",
      "ID: 10791  Movie: 賭博默示錄：最終遊戲\n",
      "ID: 10764  Movie: 人皮咒\n",
      "ID: 10755  Movie: 死因無可疑\n",
      "ID: 10752  Movie: 戰爭中的鬼故事\n",
      "ID: 10744  Movie: 犬犬風塵\n",
      "ID: 10735  Movie: 鬼侍女\n",
      "ID: 10641  Movie: 破處\n",
      "ID: 10592  Movie: 被遺忘的人生\n",
      "ID: 10748  Movie: 萬花嬉春\n",
      "ID: 10729  Movie: 72小時前哨救援\n",
      "ID: 10726  Movie: 福島50英雄\n",
      "ID: 10710  Movie: 阿基拉\n",
      "ID: 10696  Movie: 驚夢49天\n",
      "ID: 10559  Movie: 天后小助理\n",
      "ID: 10734  Movie: 失控特工\n",
      "ID: 10699  Movie: 決戰最前線\n",
      "ID: 10697  Movie: 深海擴散\n",
      "ID: 10643  Movie: 親愛陌生人\n",
      "ID: 10534  Movie: 婚姻大崩壞\n",
      "ID: 10600  Movie: 愛美獎行動\n",
      "ID: 10642  Movie: 雙面遊戲\n",
      "ID: 10577  Movie: 謊畫情人\n",
      "ID: 10575  Movie: 靠北少女\n",
      "ID: 10505  Movie: 1/2的魔法\n",
      "ID: 10658  Movie: 來自深淵 深沉靈魂的黎明  4DX/MX4D\n",
      "ID: 10640  Movie: 末代皇帝\n",
      "ID: 10599  Movie: 奪命隧道\n",
      "ID: 10602  Movie: 陪你玩最大\n",
      "ID: 10598  Movie: 觸不到的愛\n",
      "ID: 10617  Movie: 壞教育\n",
      "ID: 10541  Movie: 美好拾光公司\n",
      "ID: 10579  Movie: 鑰命監獄\n",
      "ID: 10571  Movie: 謝謝你\n",
      "ID: 10528  Movie: 女聲我最美\n",
      "ID: 10538  Movie: 間諜速成班\n",
      "ID: 10481  Movie: 我的英雄學院劇場版：英雄新世紀\n",
      "ID: 10466  Movie: 魔髮精靈唱遊世界\n",
      "ID: 10533  Movie: 迷雁返家路\n",
      "ID: 10510  Movie: 最初的晚餐\n",
      "ID: 10518  Movie: 刺激1995\n",
      "ID: 10469  Movie: 血衛\n",
      "ID: 10437  Movie: 女鬼橋\n",
      "ID: 9246  Movie: 音速小子\n",
      "ID: 10417  Movie: 紅鞋公主與七矮人\n",
      "ID: 10189  Movie: 1917\n",
      "ID: 10449  Movie: 肥龍過江\n",
      "ID: 10316  Movie: 杜立德\n",
      "ID: 9008  Movie: 變身特務\n",
      "ID: 9597  Movie: 冰雪奇緣2\n",
      "ID: 10265  Movie: 鬼船瑪麗號\n",
      "ID: 10057  Movie: AI終結戰\n",
      "ID: 9251  Movie: 鎖命危機\n",
      "ID: 6451  Movie: 情書\n",
      "ID: 4887  Movie: 一首搖滾上月球\n",
      "ID: 3026  Movie: 錢不夠用2\n",
      "ID: 2305  Movie: 秒速5公分\n"
     ]
    }
   ],
   "source": [
    "# 查看目前上映那些電影，並擷取出其ID資訊\n",
    "url = 'https://movies.yahoo.com.tw/'\n",
    "resp = requests.get(url)\n",
    "\n",
    "soup = BeautifulSoup(resp.text)\n",
    "movies = soup.find(id=\"sbox_mid\").find_all(\"option\")\n",
    "for i in movies[1:]:\n",
    "    print(\"ID:\",i[\"value\"],\" Movie:\",i[\"data-name\"])"
   ]
  },
  {
   "cell_type": "markdown",
   "metadata": {},
   "source": [
    "### 指定你有興趣的電影其ID，然後查詢其放映地區資訊。"
   ]
  },
  {
   "cell_type": "code",
   "execution_count": 21,
   "metadata": {},
   "outputs": [],
   "source": [
    "# 參考前一個步驟中擷取到的ID資訊，並指定ID\n",
    "movie_id = 10057"
   ]
  },
  {
   "cell_type": "code",
   "execution_count": 24,
   "metadata": {},
   "outputs": [
    {
     "data": {
      "text/plain": [
       "[{'area_id': 3, 'title': '台北二輪', 'priority': 149, 'ts_update': 1547194527},\n",
       " {'area_id': 2, 'title': '台中', 'priority': 125, 'ts_update': 1547507368}]"
      ]
     },
     "execution_count": 24,
     "metadata": {},
     "output_type": "execute_result"
    }
   ],
   "source": [
    "url = 'https://movies.yahoo.com.tw/api/v1/areas_by_movie_theater'\n",
    "payload = {'movie_id':str(movie_id)}\n",
    "\n",
    "# 模擬一個header\n",
    "headers = {\n",
    "    'authority': 'movies.yahoo.com.tw',\n",
    "    'method': 'GET',\n",
    "    'path': '/api/v1/areas_by_movie_theater?movie_id=' + str(movie_id),\n",
    "    'scheme': 'https',\n",
    "    'accept': 'application/json, text/javascript, */*; q=0.01',\n",
    "    'accept-encoding': 'gzip, deflate, br',\n",
    "    'accept-language': 'zh-TW,zh;q=0.9,en-US;q=0.8,en;q=0.7,zh-CN;q=0.6',\n",
    "    'cookie': 'avi=eyJpdiI6InAyYTdQTUZqaG8xUE5pVEtKZ0dJbGc9PSIsInZhbHVlIjoiMEs5ZUI1UWdHeUJPWEx5R0dKNzNqdz09IiwibWFjIjoiNDlhY2M4YjZhNzQ5ZDBmYjA4N2NiN2Q3MDUwZGRjMTY2M2YzMDUwNTM2NzkxNzMzNWI4ZDM5NGM0NzA3YjMyNCJ9; BX=91d4bjhfihuuf&b=3&s=f2; GUC=AQEBAQFfKk1fMkId7AS-; A1=d=AQABBM_7KF8CEKuHwg3NJSdtCaJRR5yLtJAFEgEBAQFNKl8yXwAAAAAA_SMAAAcIz_soX5yLtJA&S=AQAAAssaTUZgoR7NA83ymdflhPw; A3=d=AQABBM_7KF8CEKuHwg3NJSdtCaJRR5yLtJAFEgEBAQFNKl8yXwAAAAAA_SMAAAcIz_soX5yLtJA&S=AQAAAssaTUZgoR7NA83ymdflhPw; A1S=d=AQABBM_7KF8CEKuHwg3NJSdtCaJRR5yLtJAFEgEBAQFNKl8yXwAAAAAA_SMAAAcIz_soX5yLtJA&S=AQAAAssaTUZgoR7NA83ymdflhPw&j=WORLD; rxx=121u1639coz.20n915ux&v=1; _ga=GA1.4.410887265.1596521421; _gid=GA1.4.1888236141.1596521421; nexagesuid=eea348c95fe540da854eb6f67e1e5aa3; __gads=ID=180e906a5ab1246d:T=1596521427:S=ALNI_MbntHQJov1pEKZYcFECmppbHHVM2A; cmp=t=1596525598&j=0; browsed_movie=eyJpdiI6Ing2czh0Nlk5U1orVlwvakptcUtDbnBnPT0iLCJ2YWx1ZSI6IlZCekI3R2hERlZQZ2VLcm9ONklwZGhnRUhNXC9uc0xQTTRlNnFWa0pYaW5iRDRkT2JZNzNlQm1hYmZpeFpneXk5dzZEeUMyK01hOENMdjFYZm13TkxUZ0ltTWpkc255RFB5S0xnM1JDUDJ2ejNsUzNvNWg1VUZjSUVyV2pueGlMUCIsIm1hYyI6IjgxZTUxOGU3ZWEzMDQ5YzBmNDgyMTlhZjNlNjUwYTU3MWVjNmRlODBlMWZhYWY3YTU2MWM4NDVjY2RjYTlmOWEifQ%3D%3D; XSRF-TOKEN=eyJpdiI6IndzclEwT2JSVHMrN2lqNklwdXA1N0E9PSIsInZhbHVlIjoiaXRBak8yV0dLdThhM2crbHUrc3lSQmdlVnNJWHRFc1JXOVwveUVJaGRTY1VyYkU1TXp5b05vN3VxbTZxT2hGUkIxTDkzUGh5K05xWVJ5azdUeVNQTk9BPT0iLCJtYWMiOiJhYWUyMDhjZTgyOTE3NWIxZmZkNTMxYTdlZGE0MDY3ZmJjYjlkZDZhYTBjOWI1NTEwYjRlMzM2ZjJhNmQwNTkzIn0%3D; ms55=eyJpdiI6IjdJZDVzXC8yYys4bnN2ZUI1ckVjZzN3PT0iLCJ2YWx1ZSI6IjBsbGNUSHAzN2trUE1SREh4bzlzNE5LdDVONzBzY0l4d3dWTHY0ZXI4UXBJWmh1SmdrZjk0d1ZramRzSlMyXC8zVlZHRk9sczc4NzZ5Zk8xVlwvOHFvV3c9PSIsIm1hYyI6IjI4YTgxOTAzYmY5NTA4ZWNkYzdiZTlmOWM2NjUwZTFhMDViZDQ0OGQzZmE4ZmJmNmMxOTM5NGYzZGEwZTk5ZGUifQ%3D%3D; nexagesd=8',\n",
    "    'dnt': '1',\n",
    "    'mv-authorization': '21835b082e15b91a69b3851eec7b31b82ce82afb',\n",
    "    'referer': 'https://movies.yahoo.com.tw/',\n",
    "    'user-agent': 'Mozilla/5.0 (Windows NT 10.0; Win64; x64) AppleWebKit/537.36 (KHTML, like Gecko) Chrome/74.0.3729.169 Safari/537.36',\n",
    "    'x-requested-with': 'XMLHttpRequest',\n",
    "}\n",
    "    \n",
    "resp = requests.get(url, params=payload, headers=headers)\n",
    "#print(resp.json())  # 若有需要，列印出json原始碼\n",
    "\n",
    "# 這裡回傳的格式是JSON格式的資料，要解析JSON擷取資料\n",
    "\"\"\"for p in resp.json():\n",
    "    print('放映地區: {0}, 代號(area_id): {1}'.format(p['title'], p['area_id']))\"\"\"\n",
    "resp.json()"
   ]
  },
  {
   "cell_type": "markdown",
   "metadata": {},
   "source": [
    "### 指定你想要觀看的放映地區，查詢有上映電影的場次日期"
   ]
  },
  {
   "cell_type": "code",
   "execution_count": 26,
   "metadata": {},
   "outputs": [],
   "source": [
    "# 指定放映地區\n",
    "area_id = 3"
   ]
  },
  {
   "cell_type": "code",
   "execution_count": 35,
   "metadata": {},
   "outputs": [
    {
     "name": "stdout",
     "output_type": "stream",
     "text": [
      "2020-08-04\n"
     ]
    }
   ],
   "source": [
    "# 向網站發送請求\n",
    "url = 'https://movies.yahoo.com.tw/movietime_result.html'\n",
    "payload = {'movie_id':str(movie_id), 'area_id':str(area_id)}\n",
    "resp = requests.get(url, params=payload)\n",
    "resp.encoding = 'utf-8'\n",
    "\n",
    "soup = BeautifulSoup(resp.text, 'lxml')\n",
    "movie_date = soup.find(\"ul\",class_=\"date_timetable_picker\").find_all(\"input\")\n",
    "\n",
    "# 列印播放日期\n",
    "for date in movie_date:\n",
    "    if date.get(\"value\") is not None:\n",
    "        print(date[\"value\"])"
   ]
  },
  {
   "cell_type": "markdown",
   "metadata": {},
   "source": [
    "### 最後指定觀看的日期，查詢並列印出放映的電影院、放映類型(數位、3D、IMAX 3D...)、放映時間等資訊。"
   ]
  },
  {
   "cell_type": "code",
   "execution_count": 38,
   "metadata": {},
   "outputs": [],
   "source": [
    "# 選定要觀看的日期\n",
    "date = \"2020-08-04\""
   ]
  },
  {
   "cell_type": "code",
   "execution_count": 42,
   "metadata": {},
   "outputs": [
    {
     "data": {
      "text/plain": [
       "[<ul class=\"area_time _c jq_area_time\" data-theater_name=\"景美佳佳戲院\" data-theater_schedules=\"https://movies.yahoo.com.tw/theater_result.html/id=17\" data-theater_url=\"\" id=\"theater_id_17\">\n",
       " <li class=\"adds\">\n",
       " <a href=\"https://movies.yahoo.com.tw/theater_result.html/id=17\">景美佳佳戲院</a>\n",
       " <span>02-29330333</span>\n",
       " </li>\n",
       " <li class=\"taps\">\n",
       " <span class=\"tapR\">數位</span> </li>\n",
       " <li class=\"time _c\">\n",
       " <div class=\"input_picker jq_input_picker\">\n",
       " <input class=\"gabtn\" data-ga=\"['電影頁_時刻表', '電影頁_時刻表_場次', 'AI終結戰']\" data-movie_date=\"08.04\" data-movie_time=\"13:00\" data-movie_title=\"AI終結戰\" data-movie_type=\"數位\" data-news=\"news\" id=\"73899548\" name=\"schedule_list\" type=\"radio\" value=\"2020-08-04 13:00:00\"/>\n",
       " <label class=\"\" for=\"73899548\">13:00</label>\n",
       " <input class=\"gabtn\" data-ga=\"['電影頁_時刻表', '電影頁_時刻表_場次', 'AI終結戰']\" data-movie_date=\"08.04\" data-movie_time=\"17:00\" data-movie_title=\"AI終結戰\" data-movie_type=\"數位\" data-news=\"news\" id=\"73899549\" name=\"schedule_list\" type=\"radio\" value=\"2020-08-04 17:00:00\"/>\n",
       " <label class=\"\" for=\"73899549\">17:00</label>\n",
       " <input class=\"gabtn\" data-ga=\"['電影頁_時刻表', '電影頁_時刻表_場次', 'AI終結戰']\" data-movie_date=\"08.04\" data-movie_time=\"21:00\" data-movie_title=\"AI終結戰\" data-movie_type=\"數位\" data-news=\"news\" id=\"73899550\" name=\"schedule_list\" type=\"radio\" value=\"2020-08-04 21:00:00\"/>\n",
       " <label class=\"select\" for=\"73899550\">21:00</label>\n",
       " </div>\n",
       " </li>\n",
       " </ul>]"
      ]
     },
     "execution_count": 42,
     "metadata": {},
     "output_type": "execute_result"
    }
   ],
   "source": [
    "# 向網站發送請求，獲取上映的電影院及時間資訊\n",
    "url = \"https://movies.yahoo.com.tw/ajax/pc/get_schedule_by_movie\"\n",
    "payload = {'movie_id':str(movie_id),\n",
    "           'date':date,\n",
    "           'area_id':str(area_id),\n",
    "           'theater_id':'',\n",
    "           'datetime':'',\n",
    "           'movie_type_id':''}\n",
    "\n",
    "resp = requests.get(url, params=payload)\n",
    "#print(resp.json()['view'])  # 若有需要，列印出json原始碼\n",
    "soup = BeautifulSoup(resp.json()['view'], 'lxml')\n",
    "html = soup.find_all(\"ul\", attrs={'data-theater_name':re.compile(\".*\")})\n",
    "html"
   ]
  },
  {
   "cell_type": "code",
   "execution_count": 45,
   "metadata": {},
   "outputs": [
    {
     "name": "stdout",
     "output_type": "stream",
     "text": [
      "----------------------------------------------------------------------\n",
      "電影:  景美佳佳戲院\n",
      "放映類型:  數位\n",
      "2020-08-04 13:00:00\n",
      "2020-08-04 17:00:00\n",
      "2020-08-04 21:00:00\n"
     ]
    }
   ],
   "source": [
    "for i in html:\n",
    "    print(\"----------------------------------------------------------------------\")\n",
    "    print(\"電影: \",i[\"data-theater_name\"])\n",
    "    print(\"放映類型: \",i.find(class_=\"tapR\").text)\n",
    "    for j in i.find_all(\"input\"):\n",
    "        print(j[\"value\"])"
   ]
  },
  {
   "cell_type": "code",
   "execution_count": null,
   "metadata": {},
   "outputs": [],
   "source": []
  }
 ],
 "metadata": {
  "kernelspec": {
   "display_name": "Python 3",
   "language": "python",
   "name": "python3"
  },
  "language_info": {
   "codemirror_mode": {
    "name": "ipython",
    "version": 3
   },
   "file_extension": ".py",
   "mimetype": "text/x-python",
   "name": "python",
   "nbconvert_exporter": "python",
   "pygments_lexer": "ipython3",
   "version": "3.7.7"
  }
 },
 "nbformat": 4,
 "nbformat_minor": 2
}
