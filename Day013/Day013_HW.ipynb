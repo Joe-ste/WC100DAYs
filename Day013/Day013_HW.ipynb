{
 "cells": [
  {
   "cell_type": "markdown",
   "metadata": {},
   "source": [
    "# PTT 網路爬蟲實作練習\n",
    "\n",
    "\n",
    "* 能夠利用 Request + BeatifulSour 撰寫爬蟲，並存放到合適的資料結構\n"
   ]
  },
  {
   "cell_type": "markdown",
   "metadata": {},
   "source": [
    "## 作業目標\n",
    "\n",
    "根據範例 ，完成以下問題：\n",
    "\n",
    "* ① 印出最新文章的「作者」「標題」「時間」\n",
    "* ② 印出第一頁所有文章的「作者」「標題」「時間」\n"
   ]
  },
  {
   "cell_type": "markdown",
   "metadata": {},
   "source": [
    "### ① 印出最新文章的「作者」「標題」「時間」"
   ]
  },
  {
   "cell_type": "code",
   "execution_count": 17,
   "metadata": {},
   "outputs": [
    {
     "name": "stdout",
     "output_type": "stream",
     "text": [
      "namie810303 \n",
      "[公告] 20賽季若有季後賽 登入調整為720次 \n",
      "  7/13\n"
     ]
    }
   ],
   "source": [
    "import requests\n",
    "from bs4 import BeautifulSoup\n",
    "\n",
    "url = 'https://www.ptt.cc/bbs/NBA/index.html'\n",
    "r = requests.get(url)\n",
    "\n",
    "soup = BeautifulSoup(r.text)\n",
    "articles = soup.find_all(class_=\"r-ent\")\n",
    "print(articles[-1].find(class_=\"author\").text, articles[-1].find(class_=\"title\").text, articles[-1].find(class_=\"date\").text)"
   ]
  },
  {
   "cell_type": "markdown",
   "metadata": {},
   "source": [
    "### ② 印出第一頁所有文章的「作者」「標題」「時間」"
   ]
  },
  {
   "cell_type": "code",
   "execution_count": 15,
   "metadata": {},
   "outputs": [
    {
     "name": "stdout",
     "output_type": "stream",
     "text": [
      "lens82801 \n",
      "[情報] NBCA COY: Budenholzer & Billy Donovan\n",
      "  8/04\n",
      "gf8752433 \n",
      "[Live] 暴龍@熱火\n",
      "  8/04\n",
      "gf8752433 \n",
      "[Live] 金塊@雷霆\n",
      "  8/04\n",
      "gf8752433 \n",
      "[Live] 溜馬@巫師\n",
      "  8/04\n",
      "Rambo \n",
      "[BOX ] Raptors 107:103 Heat 數據\n",
      "  8/04\n",
      "Rambo \n",
      "[Live] 灰熊 @ 鵜鶘\n",
      "  8/04\n",
      "Rambo \n",
      "[BOX ] Pacers 111:100 Wizards 數據\n",
      "  8/04\n",
      "Rambo \n",
      "[BOX ] Nuggets 121:113 Thunder 數據\n",
      "  8/04\n",
      "Rambo \n",
      "[Live] 馬刺 @ 七六人\n",
      "  8/04\n",
      "Rambo \n",
      "[Live] 湖人 @ 爵士\n",
      "  8/04\n",
      "- \n",
      "\t\t\t\n",
      "\t\t\t\t(本文已被刪除) [wangtinyu]\n",
      "\t\t\t\n",
      "\t\t\t  8/04\n",
      "Rambo \n",
      "[BOX ] Grizzlies 99:109 Pelicans 數據\n",
      "  8/04\n",
      "Rambo \n",
      "[BOX ] Spurs 130:132 Sixers 數據\n",
      "  8/04\n",
      "Taco5566 \n",
      "[花邊] Bill Russell推特回應以為他去世的網友\n",
      "  8/04\n",
      "Rambo \n",
      "[BOX ] Lakers 116:108 Jazz 數據\n",
      "  8/04\n",
      "joulin \n",
      "[情報] 湖人是史上第一重返季後賽就是第一種子\n",
      "  8/04\n",
      "stark841117 \n",
      "[情報] 本季球員各項拚搏數據排行\n",
      "  8/04\n",
      "Vedan \n",
      "[公告] 板規v6.8\n",
      "  5/24\n",
      "Vedan \n",
      "[公告] 第一次被退文，可在三天後刪除退文\n",
      "  3/09\n",
      "Acetoxy \n",
      "[情報] SEASON Schedule 賽程 August 19–20\n",
      "  7/31\n",
      "namie810303 \n",
      "[公告] 20賽季若有季後賽 登入調整為720次 \n",
      "  7/13\n"
     ]
    }
   ],
   "source": [
    "for i in articles:\n",
    "    print(i.find(class_=\"author\").text, i.find(class_=\"title\").text, i.find(class_=\"date\").text)"
   ]
  },
  {
   "cell_type": "markdown",
   "metadata": {},
   "source": [
    "### ③ 試著爬爬看其他版的文章"
   ]
  },
  {
   "cell_type": "code",
   "execution_count": 16,
   "metadata": {},
   "outputs": [
    {
     "name": "stdout",
     "output_type": "stream",
     "text": [
      "ato0715 \n",
      "Re: [標的] 2417圓剛\n",
      "  8/04\n",
      "what5566 \n",
      "[新聞]  長榮加入船舶回收透明度倡議\n",
      "  8/04\n",
      "valkyrie \n",
      "[心得] 各位覺得現在是誘多盤還是誘空盤?\n",
      "  8/04\n",
      "kkwwee \n",
      "[新聞] 《大陸產業》傳華為下單聯發科 逾1.2億\n",
      "  8/04\n",
      "IanLi \n",
      "[公告] 精華區導覽Q&A\n",
      "  1/25\n",
      "BreezeCat \n",
      "[公告] 關於[創作]分類 每日全板限額5篇\n",
      "  7/20\n",
      "eyespot \n",
      "[公告] Stock 板規V2.7\n",
      " 11/03\n",
      "justforsing \n",
      "[閒聊] 2020/08/04 盤中閒聊\n",
      "  8/04\n"
     ]
    }
   ],
   "source": [
    "url = \"https://www.ptt.cc/bbs/Stock/index.html\"\n",
    "r = requests.get(url)\n",
    "\n",
    "soup = BeautifulSoup(r.text)\n",
    "articles = soup.find_all(class_=\"r-ent\")\n",
    "for i in articles:\n",
    "    print(i.find(class_=\"author\").text, i.find(class_=\"title\").text, i.find(class_=\"date\").text)"
   ]
  },
  {
   "cell_type": "code",
   "execution_count": null,
   "metadata": {},
   "outputs": [],
   "source": []
  }
 ],
 "metadata": {
  "kernelspec": {
   "display_name": "Python 3",
   "language": "python",
   "name": "python3"
  },
  "language_info": {
   "codemirror_mode": {
    "name": "ipython",
    "version": 3
   },
   "file_extension": ".py",
   "mimetype": "text/x-python",
   "name": "python",
   "nbconvert_exporter": "python",
   "pygments_lexer": "ipython3",
   "version": "3.7.7"
  }
 },
 "nbformat": 4,
 "nbformat_minor": 2
}
