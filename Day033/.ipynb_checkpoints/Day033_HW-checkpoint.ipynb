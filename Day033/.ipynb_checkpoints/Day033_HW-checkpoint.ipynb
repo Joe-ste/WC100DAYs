{
 "cells": [
  {
   "cell_type": "markdown",
   "metadata": {},
   "source": [
    "# 反爬：登入授權模擬\n",
    "\n",
    "* 了解「登入權限機制」的反爬蟲機制\n",
    "* 「登入權限機制」反爬蟲的因應策略"
   ]
  },
  {
   "cell_type": "markdown",
   "metadata": {},
   "source": [
    "## 作業目標\n",
    "\n",
    "* 找一個需要登入的網站試試看，並說明思考流程\n",
    "（如果不知道要用哪個網站的話，可以試試看 https://github.com/new 網址，未登入時會被導向登入頁）\n",
    "\n"
   ]
  },
  {
   "cell_type": "code",
   "execution_count": 14,
   "metadata": {},
   "outputs": [],
   "source": [
    "import requests\n",
    "from bs4 import BeautifulSoup\n",
    "import time"
   ]
  },
  {
   "cell_type": "code",
   "execution_count": 11,
   "metadata": {},
   "outputs": [
    {
     "data": {
      "text/plain": [
       "'\\n\\n\\n\\n\\n\\n\\n\\n\\n\\n\\n\\n\\n\\nSign in to GitHub · GitHub\\n\\n\\n\\n\\n\\n\\n\\n\\n\\n\\n\\n\\n\\n\\n\\n\\n\\n\\n\\n\\n\\n\\n\\n\\n\\n\\n\\n\\n\\n\\n\\n\\n\\n\\n\\n\\n\\n\\n\\n\\n\\n\\n\\n\\n\\n\\n\\n\\n\\n\\n\\n\\n\\n\\n\\n\\n\\n\\n\\n\\nSkip to content\\n\\n\\n\\n\\n\\n\\n\\n\\nGitHub no longer supports this web browser.\\n\\n          Learn more about the browsers we support.\\n        \\n\\n\\n\\n\\n\\n\\n\\n\\n\\n\\n\\n\\n\\n\\n\\n\\n\\n \\n\\nSign in to GitHub\\n\\n\\n\\n\\n\\n\\n\\n\\n\\n\\n\\n\\n\\n\\n\\n\\n\\n\\n\\n\\n          Username or email address\\n        \\n\\n\\n          Password Forgot password?\\n\\n\\n\\n\\n\\n\\n\\n\\n\\n\\n\\n\\n        New to GitHub?\\n        Create an account.\\n      \\n\\n\\n\\n\\n\\nTerms\\nPrivacy\\nSecurity\\nContact GitHub\\n\\n\\n\\n\\n\\n\\n\\n    You can’t perform that action at this time.\\n  \\n\\n\\n\\n\\n\\n\\n\\n\\n\\n\\n\\n\\n\\n\\n\\n\\n\\nYou signed in with another tab or window. Reload to refresh your session.\\nYou signed out in another tab or window. Reload to refresh your session.\\n\\n\\n\\n\\n\\n\\n\\n\\n\\n\\n\\n\\n\\n\\n\\n\\n\\n\\n'"
      ]
     },
     "execution_count": 11,
     "metadata": {},
     "output_type": "execute_result"
    }
   ],
   "source": [
    "\"未登入直接請求，會跳轉到首頁\"\n",
    "r = requests.get(\"https://github.com/new\")\n",
    "soup = BeautifulSoup(r.text)\n",
    "soup.text"
   ]
  },
  {
   "cell_type": "code",
   "execution_count": 10,
   "metadata": {},
   "outputs": [
    {
     "data": {
      "text/plain": [
       "'\\n\\n\\n\\n\\n\\n\\n\\n\\n\\n\\n\\n\\nCreate a New Repository\\n\\n\\n\\n\\n\\n\\n\\n\\n\\n\\n\\n\\n\\n\\n\\n\\n\\n\\n\\n\\n\\n\\n\\n\\n\\n\\n\\n\\n\\n\\n\\n\\n\\n\\n\\n\\n\\n\\n\\n\\n\\n\\n\\n\\n\\n\\n\\n\\n\\n\\n\\n\\n\\n\\n\\n\\n\\n\\n\\n\\n\\n\\n\\nSkip to content\\n\\n\\n\\n\\n\\n\\n\\n\\n\\n\\n\\n\\n\\n\\n\\n\\n\\n\\n\\n\\n\\n\\n\\n\\n\\n\\n\\n\\n\\n\\n\\n\\n\\n\\n\\n\\n\\n        Search\\n      \\n\\n        All GitHub\\n      \\n↵\\n\\n\\n      Jump to\\n      ↵\\n\\n\\n\\n\\n\\n\\nNo suggested jump to results\\n\\n\\n\\n\\n\\n\\n\\n\\n\\n\\n\\n\\n\\n\\n\\n        Search\\n      \\n\\n        All GitHub\\n      \\n↵\\n\\n\\n      Jump to\\n      ↵\\n\\n\\n\\n\\n\\n\\n\\n\\n\\n\\n\\n\\n\\n\\n\\n        Search\\n      \\n\\n        All GitHub\\n      \\n↵\\n\\n\\n      Jump to\\n      ↵\\n\\n\\n\\n\\n\\n\\n\\n\\n\\n \\n\\n\\n\\n      Dashboard\\n\\n\\n      Pull requests\\n\\n\\n    Issues\\n\\n\\n\\n        Marketplace\\n\\n\\n\\n    Explore\\n\\n\\n\\n      Joe-ste\\n\\n\\n\\n\\n        Sign out\\n      \\n\\n\\n\\n\\n\\n\\n\\n\\n\\n\\n\\n\\n\\n\\n\\n\\n\\n\\n \\n\\n\\n\\n  New repository\\n\\n\\n    Import repository\\n  \\n\\n  New gist\\n\\n\\n    New organization\\n  \\n\\n    New project\\n  \\n\\n\\n\\n\\n\\n\\n\\n\\n\\n\\n\\nSigned in as Joe-ste\\n\\n\\n\\n\\n\\n\\n\\n\\n\\n\\n\\n\\n\\nSet status\\n\\n\\n\\n\\n\\n\\n\\n\\n\\n\\nEdit status\\n\\n\\n\\n\\n\\n\\n\\n\\n\\n\\n\\n\\n\\n\\n\\n\\n\\n\\nCould not update your status, please try again.\\n\\n\\n              80 remaining\\n            \\n\\n\\n\\n\\nSuggestions:\\n\\n\\n\\n\\n🌴\\n\\n\\n                          On vacation\\n                        \\n\\n\\n\\n🤒\\n\\n\\n                          Out sick\\n                        \\n\\n\\n\\n\\n\\n🏠\\n\\n\\n                          Working from home\\n                        \\n\\n\\n\\n🎯\\n\\n\\n                          Focusing\\n                        \\n\\n\\n\\n\\n\\n\\n\\n\\n                  Busy\\n                \\n\\n                  When others mention you, assign you, or request your review,\\n                  GitHub will let them know that you have limited availability.\\n                \\n\\n\\n\\n\\n\\n    Clear status\\n  \\n\\n\\n\\n        Never\\n      \\n\\n\\n\\n\\n\\nNever\\nKeep this status until you clear your status or edit your status.\\n\\n\\n\\n\\n\\n            in 30 minutes\\n          \\n\\n\\n\\n            in 1 hour\\n          \\n\\n\\n\\n            in 4 hours\\n          \\n\\n\\n\\n            today\\n          \\n\\n\\n\\n            this week\\n          \\n\\n\\n\\n\\n\\n\\n\\n\\n\\n            Set status\\n          \\n\\n            Clear status\\n          \\n\\n \\n\\n\\n\\n\\nYour profile\\nYour repositories\\nYour projects\\nYour stars\\nYour gists\\n\\nUpgrade\\n\\n\\n    Feature preview\\n  \\n\\n\\nHelp\\nSettings\\n\\n\\n        Sign out\\n      \\n\\n \\n\\n\\n\\n\\n\\n\\n\\n\\n\\n\\n\\n\\n\\n\\n\\n\\n\\n\\n\\n\\n\\n\\n\\nCreate a new repository\\n\\n      A repository contains all project files, including the revision history.\\n\\n        Already have a project repository elsewhere? Import a repository.\\n\\n\\n\\n\\n\\nOwner\\n\\n\\n\\n\\n\\n\\n    Joe-ste\\n  \\n\\n\\n\\n\\n\\n\\n\\n\\n\\n\\n\\n      Joe-ste\\n    \\n\\n\\n\\n\\n\\n\\n/\\n\\n\\nRepository name\\n\\n\\n\\n\\n\\n\\n        You found a secret! Joe-ste/Joe-ste\\n        is a ✨special ✨ repository that you can use\\n        to add a README.md to your GitHub profile. Make sure\\n        it’s public and initialize it with a README to\\n        get started.\\n      \\n\\n\\n\\n        Great repository names are short and memorable. Need inspiration? How about\\n        silver-octo-happiness?\\n      \\n\\nDescription (optional)\\n\\n\\n\\n\\n\\n          Public\\n        \\n\\n\\n            Anyone on the internet can see this repository. You choose who can commit.\\n        \\n\\n          You may not create public repositories by organization policy.\\n        \\n\\n\\n\\n\\n          Private\\n        \\n\\n\\n          You choose who can see and commit to this repository.\\n        \\n\\n          You may not create private repositories by organization policy.\\n        \\n\\n          We are unable to provide access to GitHub private repository services.\\nIt appears your account may be based in a U.S.-sanctioned region. As a result, due to U.S. trade controls law restrictions, we are unable to provide private repository services and paid services for your account. GitHub has preserved, however, your access to certain free services for public repositories. \\nIf your account has been flagged in error, and you are not located in or resident in a sanctioned region, please file an appeal. Please read about GitHub and Trade Controls for more information.\\n        \\n\\n          We are unable to provide access to GitHub private repository services.\\nIt appears your account may be based in a U.S.-sanctioned region. As a result, due to U.S. trade controls law restrictions, we are unable to provide private repository services and paid services for your account. GitHub has preserved, however, your access to certain free services for public repositories. \\nIf your account has been flagged in error, and you are not located in or resident in a sanctioned region, please file an appeal. Please read about GitHub and Trade Controls for more information.\\n        \\n\\n          Your current plan does not support private repositories.\\n            \\n              Your organization\\'s owners will need to upgrade to Team.\\n            \\n\\n\\n\\n\\n\\n\\n\\n\\nSkip this step if you’re importing an existing repository.\\n\\n\\n\\n\\n              Initialize this repository with a README\\n          \\n\\n              This will let you immediately clone the repository to your computer.\\n          \\n\\n\\n\\n\\n\\n        Add .gitignore:\\n    \\nNone\\n\\n\\n\\n\\n        .gitignore\\n        \\n      \\n\\n\\n\\n\\n\\n\\n\\n\\n\\n\\n\\nNone\\n\\n\\n\\n\\nActionscript\\n\\n\\n\\n\\nAda\\n\\n\\n\\n\\nAgda\\n\\n\\n\\n\\nAndroid\\n\\n\\n\\n\\nAppEngine\\n\\n\\n\\n\\nAppceleratorTitanium\\n\\n\\n\\n\\nArchLinuxPackages\\n\\n\\n\\n\\nAutotools\\n\\n\\n\\n\\nC\\n\\n\\n\\n\\nC++\\n\\n\\n\\n\\nCFWheels\\n\\n\\n\\n\\nCMake\\n\\n\\n\\n\\nCUDA\\n\\n\\n\\n\\nCakePHP\\n\\n\\n\\n\\nChefCookbook\\n\\n\\n\\n\\nClojure\\n\\n\\n\\n\\nCodeIgniter\\n\\n\\n\\n\\nCommonLisp\\n\\n\\n\\n\\nComposer\\n\\n\\n\\n\\nConcrete5\\n\\n\\n\\n\\nCoq\\n\\n\\n\\n\\nCraftCMS\\n\\n\\n\\n\\nD\\n\\n\\n\\n\\nDM\\n\\n\\n\\n\\nDart\\n\\n\\n\\n\\nDelphi\\n\\n\\n\\n\\nDrupal\\n\\n\\n\\n\\nEPiServer\\n\\n\\n\\n\\nEagle\\n\\n\\n\\n\\nElisp\\n\\n\\n\\n\\nElixir\\n\\n\\n\\n\\nElm\\n\\n\\n\\n\\nErlang\\n\\n\\n\\n\\nExpressionEngine\\n\\n\\n\\n\\nExtJs\\n\\n\\n\\n\\nFancy\\n\\n\\n\\n\\nFinale\\n\\n\\n\\n\\nForceDotCom\\n\\n\\n\\n\\nFortran\\n\\n\\n\\n\\nFuelPHP\\n\\n\\n\\n\\nGWT\\n\\n\\n\\n\\nGitBook\\n\\n\\n\\n\\nGo\\n\\n\\n\\n\\nGodot\\n\\n\\n\\n\\nGradle\\n\\n\\n\\n\\nGrails\\n\\n\\n\\n\\nHaskell\\n\\n\\n\\n\\nIGORPro\\n\\n\\n\\n\\nIdris\\n\\n\\n\\n\\nJENKINS_HOME\\n\\n\\n\\n\\nJava\\n\\n\\n\\n\\nJboss\\n\\n\\n\\n\\nJekyll\\n\\n\\n\\n\\nJoomla\\n\\n\\n\\n\\nJulia\\n\\n\\n\\n\\nKiCAD\\n\\n\\n\\n\\nKohana\\n\\n\\n\\n\\nKotlin\\n\\n\\n\\n\\nLabVIEW\\n\\n\\n\\n\\nLaravel\\n\\n\\n\\n\\nLeiningen\\n\\n\\n\\n\\nLemonStand\\n\\n\\n\\n\\nLilypond\\n\\n\\n\\n\\nLithium\\n\\n\\n\\n\\nLua\\n\\n\\n\\n\\nMagento\\n\\n\\n\\n\\nMaven\\n\\n\\n\\n\\nMercury\\n\\n\\n\\n\\nMetaProgrammingSystem\\n\\n\\n\\n\\nNim\\n\\n\\n\\n\\nNode\\n\\n\\n\\n\\nOCaml\\n\\n\\n\\n\\nObjective-C\\n\\n\\n\\n\\nOpa\\n\\n\\n\\n\\nOracleForms\\n\\n\\n\\n\\nPacker\\n\\n\\n\\n\\nPerl\\n\\n\\n\\n\\nPerl6\\n\\n\\n\\n\\nPhalcon\\n\\n\\n\\n\\nPlayFramework\\n\\n\\n\\n\\nPlone\\n\\n\\n\\n\\nPrestashop\\n\\n\\n\\n\\nProcessing\\n\\n\\n\\n\\nPureScript\\n\\n\\n\\n\\nPython\\n\\n\\n\\n\\nQooxdoo\\n\\n\\n\\n\\nQt\\n\\n\\n\\n\\nR\\n\\n\\n\\n\\nROS\\n\\n\\n\\n\\nRails\\n\\n\\n\\n\\nRhodesRhomobile\\n\\n\\n\\n\\nRuby\\n\\n\\n\\n\\nRust\\n\\n\\n\\n\\nSCons\\n\\n\\n\\n\\nSass\\n\\n\\n\\n\\nScala\\n\\n\\n\\n\\nScheme\\n\\n\\n\\n\\nScrivener\\n\\n\\n\\n\\nSdcc\\n\\n\\n\\n\\nSeamGen\\n\\n\\n\\n\\nSketchUp\\n\\n\\n\\n\\nSmalltalk\\n\\n\\n\\n\\nSugarCRM\\n\\n\\n\\n\\nSwift\\n\\n\\n\\n\\nSymfony\\n\\n\\n\\n\\nSymphonyCMS\\n\\n\\n\\n\\nTeX\\n\\n\\n\\n\\nTerraform\\n\\n\\n\\n\\nTextpattern\\n\\n\\n\\n\\nTurboGears2\\n\\n\\n\\n\\nTypo3\\n\\n\\n\\n\\nUmbraco\\n\\n\\n\\n\\nUnity\\n\\n\\n\\n\\nUnrealEngine\\n\\n\\n\\n\\nVVVV\\n\\n\\n\\n\\nVisualStudio\\n\\n\\n\\n\\nWaf\\n\\n\\n\\n\\nWordPress\\n\\n\\n\\n\\nXojo\\n\\n\\n\\n\\nYeoman\\n\\n\\n\\n\\nYii\\n\\n\\n\\n\\nZendFramework\\n\\n\\n\\n\\nZephir\\n\\n\\n\\n\\ngcov\\n\\n\\n\\n\\nnanoc\\n\\n\\n\\n\\nopencart\\n\\n\\n\\n\\nstella\\n\\n\\nNothing to show\\n\\n\\n\\n\\n\\n\\n\\n        Add a license:\\n      \\nNone\\n\\n\\n\\n\\nLicenses\\n\\n\\n\\n\\n\\n\\n\\n\\n\\n\\n\\n\\n\\n\\n      None\\n    \\n\\n\\n      None\\n    \\n\\n\\n\\n\\n\\n\\n      Apache License 2.0\\n    \\n\\n\\n      Apache License 2.0\\n    \\n\\n\\n\\n\\n\\n\\n      GNU General Public License v3.0\\n    \\n\\n\\n      GNU General Public License v3.0\\n    \\n\\n\\n\\n\\n\\n\\n      MIT License\\n    \\n\\n\\n      MIT License\\n    \\n\\n\\n\\n\\n\\n\\n      BSD 2-Clause \"Simplified\" License\\n    \\n\\n\\n      BSD 2-Clause \"Simplified\" License\\n    \\n\\n\\n\\n\\n\\n\\n      BSD 3-Clause \"New\" or \"Revised\" License\\n    \\n\\n\\n      BSD 3-Clause \"New\" or \"Revised\" License\\n    \\n\\n\\n\\n\\n\\n\\n      Boost Software License 1.0\\n    \\n\\n\\n      Boost Software License 1.0\\n    \\n\\n\\n\\n\\n\\n\\n      Creative Commons Zero v1.0 Universal\\n    \\n\\n\\n      Creative Commons Zero v1.0 Universal\\n    \\n\\n\\n\\n\\n\\n\\n      Eclipse Public License 2.0\\n    \\n\\n\\n      Eclipse Public License 2.0\\n    \\n\\n\\n\\n\\n\\n\\n      GNU Affero General Public License v3.0\\n    \\n\\n\\n      GNU Affero General Public License v3.0\\n    \\n\\n\\n\\n\\n\\n\\n      GNU General Public License v2.0\\n    \\n\\n\\n      GNU General Public License v2.0\\n    \\n\\n\\n\\n\\n\\n\\n      GNU Lesser General Public License v2.1\\n    \\n\\n\\n      GNU Lesser General Public License v2.1\\n    \\n\\n\\n\\n\\n\\n\\n      Mozilla Public License 2.0\\n    \\n\\n\\n      Mozilla Public License 2.0\\n    \\n\\n\\n\\n\\n\\n\\n      The Unlicense\\n    \\n\\n\\n      The Unlicense\\n    \\n\\n\\n              No results found.\\n            \\n\\n\\n\\n\\n\\n\\n\\n\\n\\n\\n\\n\\n\\n\\n\\n\\n\\n\\n\\n\\n        Create repository\\n      \\n\\n\\n\\n        You don’t appear to have permission to create repositories for this organization. Sorry about that.\\n      \\n\\n\\n\\n\\n\\n\\n\\n\\n© 2020 GitHub, Inc.\\nTerms\\nPrivacy\\nSecurity\\nStatus\\nHelp\\n\\n\\n\\n\\n\\nContact GitHub\\nPricing\\nAPI\\nTraining\\nBlog\\nAbout\\n\\n\\n\\n\\n\\n\\n\\n\\n\\n\\n\\n    You can’t perform that action at this time.\\n  \\n\\n\\n\\n\\n\\n\\n\\n\\n\\n\\n\\n\\n\\n\\n\\n\\n\\nYou signed in with another tab or window. Reload to refresh your session.\\nYou signed out in another tab or window. Reload to refresh your session.\\n\\n\\n\\n\\n\\n\\n\\n\\n\\n\\n\\n\\n\\n\\n\\n\\n\\n\\n'"
      ]
     },
     "execution_count": 10,
     "metadata": {},
     "output_type": "execute_result"
    }
   ],
   "source": [
    "\"使用網頁開發工具，觀察未登入與登入時cookies的差異，送出請求時加入多出的cookies\"\n",
    "cookies = {\n",
    "            \"user_session\": \"euSg6B2s2GsajJGJBWSndeuoCVDrnjDnnUqXY3-zi37olSOv\",\n",
    "            \"logged_in\": \"yes\",\n",
    "            \"dotcom_user\": \"Joe-ste\",\n",
    "            \"tz\": \"Asia%2FTaipei\",\n",
    "            \"has_recent_activity\": \"1\",\n",
    "        }\n",
    "r = requests.get(\"https://github.com/new\", cookies=cookies)\n",
    "soup = BeautifulSoup(r.text)\n",
    "soup.text"
   ]
  },
  {
   "cell_type": "code",
   "execution_count": null,
   "metadata": {},
   "outputs": [],
   "source": []
  }
 ],
 "metadata": {
  "kernelspec": {
   "display_name": "Python 3",
   "language": "python",
   "name": "python3"
  },
  "language_info": {
   "codemirror_mode": {
    "name": "ipython",
    "version": 3
   },
   "file_extension": ".py",
   "mimetype": "text/x-python",
   "name": "python",
   "nbconvert_exporter": "python",
   "pygments_lexer": "ipython3",
   "version": "3.7.7"
  }
 },
 "nbformat": 4,
 "nbformat_minor": 2
}
