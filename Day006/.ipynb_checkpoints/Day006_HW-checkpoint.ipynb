{
 "cells": [
  {
   "cell_type": "markdown",
   "metadata": {},
   "source": [
    "# API 資料串接 - 以 知乎 API 實作範例\n",
    "\n",
    "\n",
    "\n",
    "* 了解知乎 API 使用方式與回傳內容\n",
    "* 撰寫程式存取 API 且添加標頭\n",
    "\n",
    "\n"
   ]
  },
  {
   "cell_type": "markdown",
   "metadata": {},
   "source": [
    "## 作業目標\n",
    "\n",
    "* 根據範例提供的 API ，完成以下問題：\n",
    "\n",
    "    1. 取出知乎問題發問時間\n",
    "    2. 取出第一筆與最後一筆回答的時間\n"
   ]
  },
  {
   "cell_type": "markdown",
   "metadata": {},
   "source": [
    "### 1. 取出知乎問題發問時間"
   ]
  },
  {
   "cell_type": "code",
   "execution_count": 9,
   "metadata": {},
   "outputs": [
    {
     "data": {
      "text/plain": [
       "{'id': 637938925,\n",
       " 'type': 'answer',\n",
       " 'answer_type': 'normal',\n",
       " 'question': {'type': 'question',\n",
       "  'id': 55493026,\n",
       "  'title': '你们都是怎么学 Python 的？',\n",
       "  'question_type': 'normal',\n",
       "  'created': 1486390229,\n",
       "  'updated_time': 1582533957,\n",
       "  'url': 'https://www.zhihu.com/api/v4/questions/55493026',\n",
       "  'relationship': {}},\n",
       " 'author': {'id': 'e8c4768eaa41e3749f7e8bc5ac6aa74b',\n",
       "  'url_token': 'Lanyuneet',\n",
       "  'name': 'Slumbers',\n",
       "  'avatar_url': 'https://pic1.zhimg.com/v2-f950cfef511d33500177be90030dcd3d_l.jpg?source=1940ef5c',\n",
       "  'avatar_url_template': 'https://pic2.zhimg.com/v2-f950cfef511d33500177be90030dcd3d.jpg?source=1940ef5c',\n",
       "  'is_org': False,\n",
       "  'type': 'people',\n",
       "  'url': 'https://www.zhihu.com/api/v4/people/e8c4768eaa41e3749f7e8bc5ac6aa74b',\n",
       "  'user_type': 'people',\n",
       "  'headline': '算法工程师',\n",
       "  'badge': [],\n",
       "  'badge_v2': {'title': '',\n",
       "   'merged_badges': [],\n",
       "   'detail_badges': [],\n",
       "   'icon': '',\n",
       "   'night_icon': ''},\n",
       "  'gender': 0,\n",
       "  'is_advertiser': False,\n",
       "  'is_privacy': False},\n",
       " 'url': 'https://www.zhihu.com/api/v4/answers/637938925',\n",
       " 'is_collapsed': False,\n",
       " 'created_time': 1554085028,\n",
       " 'updated_time': 1558451618,\n",
       " 'extras': '',\n",
       " 'is_copyable': True,\n",
       " 'relationship': {'upvoted_followees': []},\n",
       " 'ad_answer': None}"
      ]
     },
     "execution_count": 9,
     "metadata": {},
     "output_type": "execute_result"
    }
   ],
   "source": [
    "import requests\n",
    "headers = {'user-agent': 'my-app/0.0.1'}\n",
    "r = requests.get(\"https://www.zhihu.com/api/v4/questions/55493026/answers\", headers = headers)\n",
    "data = r.json()\n",
    "data[\"data\"][0]"
   ]
  },
  {
   "cell_type": "code",
   "execution_count": 11,
   "metadata": {},
   "outputs": [
    {
     "name": "stdout",
     "output_type": "stream",
     "text": [
      "1486390229\n",
      "1486390229\n",
      "1486390229\n",
      "1486390229\n",
      "1486390229\n"
     ]
    }
   ],
   "source": [
    "# 1. 取出知乎問題發問時間\n",
    "\n",
    "for i in data[\"data\"]:\n",
    "    print(i[\"question\"][\"created\"])"
   ]
  },
  {
   "cell_type": "markdown",
   "metadata": {},
   "source": [
    "### 2. 取出第一筆與最後一筆回答的時間"
   ]
  },
  {
   "cell_type": "code",
   "execution_count": 13,
   "metadata": {},
   "outputs": [
    {
     "name": "stdout",
     "output_type": "stream",
     "text": [
      "1554085028\n",
      "1572318426\n"
     ]
    }
   ],
   "source": [
    "# 2. 取出第一筆與最後一筆回答的時間\n",
    "\n",
    "print(data[\"data\"][0][\"created_time\"])\n",
    "print(data[\"data\"][-1][\"created_time\"])"
   ]
  },
  {
   "cell_type": "code",
   "execution_count": null,
   "metadata": {},
   "outputs": [],
   "source": []
  },
  {
   "cell_type": "code",
   "execution_count": null,
   "metadata": {},
   "outputs": [],
   "source": []
  },
  {
   "cell_type": "code",
   "execution_count": null,
   "metadata": {},
   "outputs": [],
   "source": []
  }
 ],
 "metadata": {
  "kernelspec": {
   "display_name": "Python 3",
   "language": "python",
   "name": "python3"
  },
  "language_info": {
   "codemirror_mode": {
    "name": "ipython",
    "version": 3
   },
   "file_extension": ".py",
   "mimetype": "text/x-python",
   "name": "python",
   "nbconvert_exporter": "python",
   "pygments_lexer": "ipython3",
   "version": "3.7.7"
  }
 },
 "nbformat": 4,
 "nbformat_minor": 2
}
